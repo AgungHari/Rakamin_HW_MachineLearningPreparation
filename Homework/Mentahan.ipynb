{
 "cells": [
  {
   "cell_type": "markdown",
   "metadata": {},
   "source": [
    "## Homework : Machine Learning Preparation\n",
    "\n",
    "Nama : I Gusti Ngurah Agung Hari Vijaya Kusuma\n",
    "\n",
    "Hobi : Push Rank"
   ]
  },
  {
   "cell_type": "markdown",
   "metadata": {},
   "source": [
    "## 1. Descriptive Statistics (5 poin)\n",
    "Gunakan function info dan describe pada dataset ﬁnal project kalian. Tuliskan hasil observasinya, seperti:\n",
    "- a. Apakah ada kolom dengan tipe data kurang sesuai, atau nama kolom dan isinya\n",
    "kurang sesuai?\n",
    "- b. Apakah ada kolom yang memiliki nilai kosong? Jika ada, apa saja?\n",
    "- c. Apakah ada kolom yang memiliki nilai summary agak aneh? (min/mean/median/max/unique/top/freq)\n",
    "\n",
    " Untuk masing-masing jenis observasi, tuliskan juga jika tidak ada masalah, misal untuk A: “Semua tipe data sudah sesuai”\n"
   ]
  },
  {
   "cell_type": "markdown",
   "metadata": {},
   "source": [
    "## 2. Univariate Analysis (10 poin)\n",
    "Gunakan visualisasi untuk melihat distribusi masing-masing kolom (feature maupun target). Tuliskan hasil observasinya, <br> misalnya jika ada suatu kolom yang distribusinya menarik (misal skewed, bimodal, ada outlier, ada nilai yang mendominasi, kategorinya terlalu banyak, dsb). <br>Jelaskan juga apa yang harus di-follow up saat data pre-processing.\n"
   ]
  },
  {
   "cell_type": "markdown",
   "metadata": {},
   "source": [
    "## 3. Multivariate Analysis (15 poin)\n",
    "\n",
    "Lakukan multivariate analysis (seperti correlation heatmap dan category plots, sesuai yang diajarkan di kelas). Tuliskan hasil observasinya, seperti:\n",
    "- Bagaimana korelasi antara masing-masing feature dan label. Kira-kira feature mana saja yang paling relevan dan harus dipertahankan?\n",
    "-  Bagaimana korelasi antar-feature, apakah ada pola yang menarik? Apa yang perlu dilakukan terhadap feature itu?\n",
    "\n",
    "Tuliskan juga jika memang tidak ada feature yang saling berkorelasi\n"
   ]
  },
  {
   "cell_type": "markdown",
   "metadata": {},
   "source": [
    "## 4. Data Cleansing (40 poin)\n",
    "\n",
    "Lakukan pembersihan data, sesuai yang diajarkan di kelas, seperti:\n",
    "- a. Handle missing values\n",
    "- b. Handle duplicate data\n",
    "- c. Handle outliers\n",
    "- d. Feature transformation\n",
    "- e. Feature encoding\n",
    "- f. Handle class imbalance\n",
    "\n",
    "Di laporan homework, tuliskan apa saja yang telah dilakukan dan metode yang digunakan.\n",
    "\n",
    " Tetap tuliskan jika memang ada tidak yang perlu di-handle (contoh: “Tidak perlu feature encoding karena semua feature sudah numerical” atau “Outlier tidak di-handle karena akan fokus menggunakan model yang robust terhadap outlier”)."
   ]
  },
  {
   "cell_type": "markdown",
   "metadata": {},
   "source": [
    "## 5. Feature Engineering (30 poin)\n",
    "\n",
    "Cek feature yang ada sekarang, lalu lakukan:\n",
    "- a. Feature selection (membuang feature yang kurang relevan atau redundan)\n",
    "- b. Feature extraction (membuat feature baru dari feature yang sudah ada)\n",
    "- c. Tuliskan minimal 4 feature tambahan (selain yang sudah tersedia di dataset) yang mungkin akan sangat membantu membuat performansi model semakin bagus (ini hanya ide saja, untuk menguji kreativitas teman-teman, tidak perlu benar-benar dicari datanya dan tidak perlu diimplementasikan)\n",
    "\n",
    "Untuk 5A & 5B, tetap tuliskan jika memang tidak bisa dilakukan (contoh: “Semua feature digunakan untuk modelling (tidak ada yang dihapus), karena semua feature relevan”)\n"
   ]
  },
  {
   "cell_type": "markdown",
   "metadata": {},
   "source": []
  }
 ],
 "metadata": {
  "language_info": {
   "name": "python"
  }
 },
 "nbformat": 4,
 "nbformat_minor": 2
}
